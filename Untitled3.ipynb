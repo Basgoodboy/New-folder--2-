{
  "nbformat": 4,
  "nbformat_minor": 0,
  "metadata": {
    "colab": {
      "provenance": [],
      "authorship_tag": "ABX9TyPzWppECbXz4sat5zGoZQwK",
      "include_colab_link": true
    },
    "kernelspec": {
      "name": "python3",
      "display_name": "Python 3"
    },
    "language_info": {
      "name": "python"
    }
  },
  "cells": [
    {
      "cell_type": "markdown",
      "metadata": {
        "id": "view-in-github",
        "colab_type": "text"
      },
      "source": [
        "<a href=\"https://colab.research.google.com/github/Basgoodboy/New-folder--2-/blob/main/Untitled3.ipynb\" target=\"_parent\"><img src=\"https://colab.research.google.com/assets/colab-badge.svg\" alt=\"Open In Colab\"/></a>"
      ]
    },
    {
      "cell_type": "markdown",
      "source": [
        "\n",
        "\n",
        "           | Zone A| Zone B | Zone C | Zone D |\n",
        " Drone X   |12     | 15     | 18     | 10     |\n",
        " Drone Y   |14     | 13     | 20     | 11     |\n",
        " Drone Z   |10     | 16     | 19     | 12     |\n",
        "\n",
        "and when we write it in matrix form and transpose it its give the  distance covered by drone in zone a , b , c , d\n",
        "we'll more in the code below-\n"
      ],
      "metadata": {
        "id": "FmvmvAWEjBsY"
      }
    },
    {
      "cell_type": "code",
      "execution_count": 1,
      "metadata": {
        "colab": {
          "base_uri": "https://localhost:8080/"
        },
        "id": "s_okhaMkisSd",
        "outputId": "5d3c8e62-14ed-4db3-ff93-1e803fee7143"
      },
      "outputs": [
        {
          "output_type": "stream",
          "name": "stdout",
          "text": [
            "Original Matrix (Drone Delivery Times):\n",
            "Rows = Drones, Columns = Zones\n",
            "[[12 15 18 10]\n",
            " [14 13 20 11]\n",
            " [10 16 19 12]]\n",
            "\n",
            "Transposed Matrix (Zone-based View):\n",
            "Rows = Zones, Columns = Drones\n",
            "[[12 14 10]\n",
            " [15 13 16]\n",
            " [18 20 19]\n",
            " [10 11 12]]\n",
            "\n",
            "Meaning of the First Row of Original Matrix:\n",
            "Drone X delivery times to Zones A, B, C, D:\n",
            "[12 15 18 10]\n",
            "\n",
            "Meaning of the First Column of Transposed Matrix:\n",
            "Delivery times to Zone A by Drone X, Y, Z:\n",
            "[12 14 10]\n"
          ]
        }
      ],
      "source": [
        "import numpy as np\n",
        "\n",
        "\n",
        "A = np.array([\n",
        "    [12, 15, 18, 10],  # Drone X\n",
        "    [14, 13, 20, 11],  # Drone Y\n",
        "    [10, 16, 19, 12]   # Drone Z\n",
        "])\n",
        "A_transpose = A.T\n",
        "\n",
        "#here we r printing the matrix with labeling\n",
        "print(\"Original Matrix (Drone Delivery Times):\")\n",
        "print(\"Rows = Drones, Columns = Zones\")\n",
        "print(A)\n",
        "\n",
        "#here we are transposing the matrix\n",
        "print(\"\\nTransposed Matrix (Zone-based View):\")\n",
        "print(\"Rows = Zones, Columns = Drones\")\n",
        "print(A_transpose)\n",
        "\n",
        "print(\"\\nMeaning of the First Row of Original Matrix:\")\n",
        "print(\"Drone X delivery times to Zones A, B, C, D:\")\n",
        "print(A[0])\n",
        "\n",
        "\n",
        "print(\"\\nMeaning of the First Column of Transposed Matrix:\")\n",
        "print(\"Delivery times to Zone A by Drone X, Y, Z:\")\n",
        "print(A_transpose[0])\n",
        "\n",
        "\n"
      ]
    }
  ]
}