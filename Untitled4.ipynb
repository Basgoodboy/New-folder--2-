{
  "nbformat": 4,
  "nbformat_minor": 0,
  "metadata": {
    "colab": {
      "provenance": [],
      "authorship_tag": "ABX9TyNuiiLSbYpHbeS7mdSLlrnd",
      "include_colab_link": true
    },
    "kernelspec": {
      "name": "python3",
      "display_name": "Python 3"
    },
    "language_info": {
      "name": "python"
    }
  },
  "cells": [
    {
      "cell_type": "markdown",
      "metadata": {
        "id": "view-in-github",
        "colab_type": "text"
      },
      "source": [
        "<a href=\"https://colab.research.google.com/github/Basgoodboy/New-folder--2-/blob/main/Untitled4.ipynb\" target=\"_parent\"><img src=\"https://colab.research.google.com/assets/colab-badge.svg\" alt=\"Open In Colab\"/></a>"
      ]
    },
    {
      "cell_type": "code",
      "source": [
        "import sqlite3\n",
        "import pandas as pd\n",
        "conn = sqlite3.connect(':memory:')\n",
        "cursor = conn.cursor()\n",
        "\n",
        "cursor.execute(\"\"\"\n",
        "CREATE TABLE Students (\n",
        "    student_id INTEGER PRIMARY KEY,\n",
        "    name TEXT\n",
        ")\n",
        "\"\"\")\n",
        "cursor.execute(\"\"\"\n",
        "CREATE TABLE Courses (\n",
        "    course_id INTEGER PRIMARY KEY,\n",
        "    course_name TEXT,\n",
        "    price INTEGER\n",
        ")\n",
        "\"\"\")\n",
        "cursor.execute(\"\"\"\n",
        "CREATE TABLE Enrollments (\n",
        "    enrollment_id INTEGER PRIMARY KEY,\n",
        "    student_id INTEGER,\n",
        "    course_id INTEGER,\n",
        "    FOREIGN KEY(student_id) REFERENCES Students(student_id),\n",
        "    FOREIGN KEY(course_id) REFERENCES Courses(course_id)\n",
        ")\n",
        "\"\"\")\n",
        "cursor.execute(\"\"\"\n",
        "CREATE TABLE Payments (\n",
        "    payment_id INTEGER PRIMARY KEY,\n",
        "    enrollment_id INTEGER,\n",
        "    amount_paid INTEGER,\n",
        "    FOREIGN KEY(enrollment_id) REFERENCES Enrollments(enrollment_id)\n",
        ")\n",
        "\"\"\")\n",
        "\n",
        "students = [\n",
        "    (1, 'Ram'),\n",
        "    (2, 'Bas'),\n",
        "    (3, 'Sweetie')\n",
        "]\n",
        "\n",
        "courses = [\n",
        "    (1, 'Python Basics', 100),\n",
        "    (2, 'Data Science', 200),\n",
        "    (3, 'Web Development', 150)\n",
        "]\n",
        "\n",
        "enrollments = [\n",
        "    (1, 1, 1),\n",
        "    (2, 1, 2),\n",
        "    (3, 2, 1),\n",
        "    (4, 2, 3),\n",
        "    (5, 3, 2),\n",
        "    (6, 3, 3),\n",
        "    (7, 1, 3),\n",
        "    (8, 2, 2),\n",
        "    (9, 3, 1),\n",
        "    (10, 1, 2)\n",
        "]\n",
        "\n",
        "payments = [\n",
        "    (1, 1, 100),\n",
        "    (2, 2, 200),\n",
        "    (3, 3, 100),\n",
        "    (4, 4, 150),\n",
        "    (5, 5, 200),\n",
        "    (6, 6, 150),\n",
        "    (7, 7, 150),\n",
        "    (8, 8, 200),\n",
        "    (9, 9, 100),\n",
        "    (10, 10, 200)\n",
        "]\n",
        "\n",
        "cursor.executemany(\"INSERT INTO Students VALUES (?, ?)\", students)\n",
        "cursor.executemany(\"INSERT INTO Courses VALUES (?, ?, ?)\", courses)\n",
        "cursor.executemany(\"INSERT INTO Enrollments VALUES (?, ?, ?)\", enrollments)\n",
        "cursor.executemany(\"INSERT INTO Payments VALUES (?, ?, ?)\", payments)\n",
        "conn.commit()\n",
        "\n",
        "print(\"Courses enrolled by Bas:\")\n",
        "query1 = \"\"\"\n",
        "SELECT s.name, c.course_name\n",
        "FROM Students s\n",
        "JOIN Enrollments e ON s.student_id = e.student_id\n",
        "JOIN Courses c ON e.course_id = c.course_id\n",
        "WHERE s.student_id = 1\n",
        "\"\"\"\n",
        "df1 = pd.read_sql_query(query1, conn)\n",
        "print(df1)\n",
        "\n",
        "print(\"\\nTotal revenue per course:\")\n",
        "query2 = \"\"\"\n",
        "SELECT c.course_name, SUM(p.amount_paid) as total_revenue\n",
        "FROM Payments p\n",
        "JOIN Enrollments e ON p.enrollment_id = e.enrollment_id\n",
        "JOIN Courses c ON e.course_id = c.course_id\n",
        "GROUP BY c.course_id\n",
        "\"\"\"\n",
        "df2 = pd.read_sql_query(query2, conn)\n",
        "print(df2)\n",
        "\n",
        "conn.close()\n"
      ],
      "metadata": {
        "colab": {
          "base_uri": "https://localhost:8080/"
        },
        "id": "ucY6I72eRpgf",
        "outputId": "a9f48ff1-31f8-432e-bb6f-525d01b3929f"
      },
      "execution_count": 10,
      "outputs": [
        {
          "output_type": "stream",
          "name": "stdout",
          "text": [
            "Courses enrolled by Bas:\n",
            "  name      course_name\n",
            "0  Ram    Python Basics\n",
            "1  Ram     Data Science\n",
            "2  Ram  Web Development\n",
            "3  Ram     Data Science\n",
            "\n",
            "Total revenue per course:\n",
            "       course_name  total_revenue\n",
            "0    Python Basics            300\n",
            "1     Data Science            800\n",
            "2  Web Development            450\n"
          ]
        }
      ]
    }
  ]
}